{
 "cells": [
  {
   "cell_type": "code",
   "execution_count": 17,
   "source": [
    "import sys\n",
    "sys.path.append('/home/connor/sol_sim/src')"
   ],
   "outputs": [],
   "metadata": {}
  },
  {
   "cell_type": "code",
   "execution_count": 27,
   "source": [
    "\n",
    "from jplephem.spk import SPK\n",
    "from astropy.time import Time\n",
    "kernel = SPK.open('/home/connor/sol_sim/src/instantiation_data/de440.bsp')\n",
    "from matplotlib import pyplot as plt\n",
    "import numpy as np\n",
    "import constants\n",
    "import system\n",
    "import importlib\n",
    "importlib.reload(system)"
   ],
   "outputs": [
    {
     "output_type": "execute_result",
     "data": {
      "text/plain": [
       "<module 'system' from '/home/connor/sol_sim/src/system.py'>"
      ]
     },
     "metadata": {},
     "execution_count": 27
    }
   ],
   "metadata": {}
  },
  {
   "cell_type": "code",
   "execution_count": 35,
   "source": [
    "test_sys = system.OrbitalSystem.create_from_eph_data(\"2021-07-31 00:00\", kernel, constants.YAML_PATH / \"sol_system.yaml\")\n",
    "test_sys.bodies['sol'].state.vel_n"
   ],
   "outputs": [
    {
     "output_type": "execute_result",
     "data": {
      "text/plain": [
       "array([0., 0., 0.])"
      ]
     },
     "metadata": {},
     "execution_count": 35
    }
   ],
   "metadata": {}
  }
 ],
 "metadata": {
  "orig_nbformat": 4,
  "kernelspec": {
   "name": "sol_sim",
   "display_name": "sol_sim",
   "language": "python"
  },
  "language_info": {
   "name": "python",
   "version": "3.6.9",
   "mimetype": "text/x-python",
   "codemirror_mode": {
    "name": "ipython",
    "version": 3
   },
   "pygments_lexer": "ipython3",
   "nbconvert_exporter": "python",
   "file_extension": ".py"
  }
 },
 "nbformat": 4,
 "nbformat_minor": 2
}