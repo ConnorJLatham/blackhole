{
 "cells": [
  {
   "cell_type": "code",
   "execution_count": 2,
   "id": "a32d43c5",
   "metadata": {},
   "outputs": [
    {
     "name": "stdout",
     "output_type": "stream",
     "text": [
      "hello\n"
     ]
    }
   ],
   "source": [
    "import pathlib\n",
    "\n",
    "print(\"hello\")"
   ]
  },
  {
   "cell_type": "code",
   "execution_count": null,
   "id": "fea755b5",
   "metadata": {},
   "outputs": [],
   "source": [
    "asdasdads"
   ]
  },
  {
   "cell_type": "code",
   "execution_count": 5,
   "id": "149b94fd",
   "metadata": {},
   "outputs": [
    {
     "name": "stdout",
     "output_type": "stream",
     "text": [
      "2023-02-12 07:35:41,959 - notbooke - INFO - run\n",
      "2023-02-12 07:35:41,959 - notbooke - INFO - run\n",
      "2023-02-12 07:35:41,959 - notbooke - INFO - run\n",
      "2023-02-12 07:35:41,959 - notbooke - INFO - run\n",
      "2023-02-12 07:35:41,959 - notbooke - INFO - run\n",
      "nice\n"
     ]
    }
   ],
   "source": [
    "import base.python.base as base\n",
    "\n",
    "LOG = base.log.init(\"notbooke\")\n",
    "\n",
    "LOG.info(\"run\")\n",
    "print(\"nice\")"
   ]
  }
 ],
 "metadata": {
  "kernelspec": {
   "display_name": "Python 3 (ipykernel)",
   "language": "python",
   "name": "python3"
  },
  "language_info": {
   "codemirror_mode": {
    "name": "ipython",
    "version": 3
   },
   "file_extension": ".py",
   "mimetype": "text/x-python",
   "name": "python",
   "nbconvert_exporter": "python",
   "pygments_lexer": "ipython3",
   "version": "3.9.15"
  }
 },
 "nbformat": 4,
 "nbformat_minor": 5
}
