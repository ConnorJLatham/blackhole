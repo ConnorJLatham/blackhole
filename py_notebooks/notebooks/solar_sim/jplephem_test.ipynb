{
 "cells": [
  {
   "cell_type": "code",
   "execution_count": 1,
   "source": [
    "from jplephem.spk import SPK\n",
    "from astropy.time import Time\n",
    "kernel = SPK.open('/home/connor/sol_sim/src/instantiation_data/de440.bsp')\n",
    "from matplotlib import pyplot as plt\n",
    "import numpy as np\n"
   ],
   "outputs": [
    {
     "output_type": "error",
     "ename": "ModuleNotFoundError",
     "evalue": "No module named 'utilities'",
     "traceback": [
      "\u001b[0;31m---------------------------------------------------------------------------\u001b[0m",
      "\u001b[0;31mModuleNotFoundError\u001b[0m                       Traceback (most recent call last)",
      "\u001b[0;32m<ipython-input-1-e39e69976719>\u001b[0m in \u001b[0;36m<module>\u001b[0;34m\u001b[0m\n\u001b[1;32m      1\u001b[0m \u001b[0;32mfrom\u001b[0m \u001b[0mjplephem\u001b[0m\u001b[0;34m.\u001b[0m\u001b[0mspk\u001b[0m \u001b[0;32mimport\u001b[0m \u001b[0mSPK\u001b[0m\u001b[0;34m\u001b[0m\u001b[0;34m\u001b[0m\u001b[0m\n\u001b[1;32m      2\u001b[0m \u001b[0;32mfrom\u001b[0m \u001b[0mastropy\u001b[0m\u001b[0;34m.\u001b[0m\u001b[0mtime\u001b[0m \u001b[0;32mimport\u001b[0m \u001b[0mTime\u001b[0m\u001b[0;34m\u001b[0m\u001b[0;34m\u001b[0m\u001b[0m\n\u001b[0;32m----> 3\u001b[0;31m \u001b[0;32mfrom\u001b[0m \u001b[0mutilities\u001b[0m \u001b[0;32mimport\u001b[0m \u001b[0mDIR_PATH\u001b[0m\u001b[0;34m\u001b[0m\u001b[0;34m\u001b[0m\u001b[0m\n\u001b[0m\u001b[1;32m      4\u001b[0m \u001b[0mkernel\u001b[0m \u001b[0;34m=\u001b[0m \u001b[0mSPK\u001b[0m\u001b[0;34m.\u001b[0m\u001b[0mopen\u001b[0m\u001b[0;34m(\u001b[0m\u001b[0mDIR_PATH\u001b[0m \u001b[0;34m/\u001b[0m \u001b[0;34m'instantiation_data/de440.bsp'\u001b[0m\u001b[0;34m)\u001b[0m\u001b[0;34m\u001b[0m\u001b[0;34m\u001b[0m\u001b[0m\n\u001b[1;32m      5\u001b[0m \u001b[0;32mfrom\u001b[0m \u001b[0mmatplotlib\u001b[0m \u001b[0;32mimport\u001b[0m \u001b[0mpyplot\u001b[0m \u001b[0;32mas\u001b[0m \u001b[0mplt\u001b[0m\u001b[0;34m\u001b[0m\u001b[0;34m\u001b[0m\u001b[0m\n",
      "\u001b[0;31mModuleNotFoundError\u001b[0m: No module named 'utilities'"
     ]
    }
   ],
   "metadata": {}
  },
  {
   "cell_type": "code",
   "execution_count": 98,
   "source": [
    "time = Time(\"2021-07-30 00:00\")\n",
    "time2 = Time(\"2021-07-30 00:00\").jd\n",
    "print(time2)\n",
    "position, velocity = kernel[0, 3].compute_and_differentiate(time.jd)\n",
    "pos = position*1000\n",
    "print(position*1000)\n",
    "print(np.linalg.norm(velocity*1000/(24*3600)))\n",
    "# print(solar_system_ephemeris.bodies)\n",
    "time.jd\n",
    "# pos = get_body_barycentric('earth', time)\n"
   ],
   "outputs": [
    {
     "output_type": "stream",
     "name": "stdout",
     "text": [
      "2459427.5\n",
      "[ 8.97416444e+10 -1.10993097e+11 -4.80913950e+10]\n",
      "29319.5808503496\n"
     ]
    },
    {
     "output_type": "execute_result",
     "data": {
      "text/plain": [
       "2459425.5"
      ]
     },
     "metadata": {},
     "execution_count": 98
    }
   ],
   "metadata": {}
  },
  {
   "cell_type": "code",
   "execution_count": 82,
   "source": [
    "t_i = Time(\"2020-07-30 00:00\").jd\n",
    "times = [t_i]\n",
    "t_step = (1e4)/(24*3600)\n",
    "t_n = t_i\n",
    "while t_n < t_i + 365:\n",
    "    t_n += t_step\n",
    "    times.append(t_n)"
   ],
   "outputs": [],
   "metadata": {}
  },
  {
   "cell_type": "code",
   "execution_count": 90,
   "source": [
    "earth_pos = [kernel[0, 3].compute(time)*1000 for time in times]\n",
    "# print(earth_pos)\n",
    "x = [p[0] for p in earth_pos]\n",
    "y = [p[1] for p in earth_pos]"
   ],
   "outputs": [],
   "metadata": {}
  }
 ],
 "metadata": {
  "orig_nbformat": 4,
  "kernelspec": {
   "name": "sol_sim",
   "display_name": "sol_sim",
   "language": "python"
  },
  "language_info": {
   "name": "python",
   "version": "3.6.9",
   "mimetype": "text/x-python",
   "codemirror_mode": {
    "name": "ipython",
    "version": 3
   },
   "pygments_lexer": "ipython3",
   "nbconvert_exporter": "python",
   "file_extension": ".py"
  }
 },
 "nbformat": 4,
 "nbformat_minor": 2
}